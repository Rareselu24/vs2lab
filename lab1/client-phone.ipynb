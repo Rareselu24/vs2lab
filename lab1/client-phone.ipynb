{
 "cells": [
  {
   "cell_type": "code",
   "execution_count": null,
   "metadata": {
    "vscode": {
     "languageId": "plaintext"
    }
   },
   "outputs": [],
   "source": [
    "import clientserverTelefon # import from our script\n",
    "\n",
    "client = clientserverTelefon.Client() # Create a client instance\n",
    "\n",
    "client.getAll()"
   ]
  },
  {
   "cell_type": "code",
   "execution_count": null,
   "metadata": {
    "vscode": {
     "languageId": "plaintext"
    }
   },
   "outputs": [],
   "source": [
    "import clientserverTelefon # import from our script\n",
    "\n",
    "client = clientserverTelefon.Client() # Create a client instance\n",
    "client.get(\"Alice\")"
   ]
  }
 ],
 "metadata": {
  "language_info": {
   "name": "python"
  }
 },
 "nbformat": 4,
 "nbformat_minor": 2
}
